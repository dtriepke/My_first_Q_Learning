{
 "cells": [
  {
   "cell_type": "markdown",
   "metadata": {},
   "source": [
    "# Getting AI smarter with Q-learning: a simple first step in Python "
   ]
  },
  {
   "cell_type": "markdown",
   "metadata": {},
   "source": [
    "![](graph.png)"
   ]
  },
  {
   "cell_type": "markdown",
   "metadata": {},
   "source": [
    "http://firsttimeprogrammer.blogspot.de/2016/09/getting-ai-smarter-with-q-learning.html"
   ]
  },
  {
   "cell_type": "markdown",
   "metadata": {},
   "source": [
    "# networkx "
   ]
  },
  {
   "cell_type": "code",
   "execution_count": 4,
   "metadata": {
    "collapsed": true
   },
   "outputs": [],
   "source": [
    "import networkx as nx\n",
    "import pylab as plt"
   ]
  },
  {
   "cell_type": "code",
   "execution_count": 339,
   "metadata": {
    "collapsed": false
   },
   "outputs": [
    {
     "data": {
      "image/png": "[encoded data removed]",
      "text/plain": [
       "<matplotlib.figure.Figure at 0x287051c0198>"
      ]
     },
     "metadata": {},
     "output_type": "display_data"
    }
   ],
   "source": [
    "points_list = [(1,3), (1,5),\n",
    "               (3,2), (3,4),(5,4),\n",
    "               (4,0)\n",
    "              ]\n",
    "\n",
    "goal = 5\n",
    "\n",
    "G = nx.Graph()\n",
    "G.add_edges_from(points_list)\n",
    "pos = nx.spring_layout(G)\n",
    "nx.draw_networkx_nodes(G, pos)\n",
    "nx.draw_networkx_edges(G, pos)\n",
    "nx.draw_networkx_labels(G, pos)\n",
    "plt.show()"
   ]
  },
  {
   "cell_type": "markdown",
   "metadata": {},
   "source": [
    "# Q Learning"
   ]
  },
  {
   "cell_type": "code",
   "execution_count": 36,
   "metadata": {
    "collapsed": true
   },
   "outputs": [],
   "source": [
    "import numpy as np"
   ]
  },
  {
   "cell_type": "code",
   "execution_count": 455,
   "metadata": {
    "collapsed": false
   },
   "outputs": [],
   "source": [
    "# R matrix (sate x action)\n",
    "# target: pre-limit the environment for possible moves and goal state\n",
    "# R is pre defined but imaging an agent recive imidietly \n",
    "R = np.matrix([[-1,-1,-1,-1,0,-1],\n",
    "               [-1,-1,-1,0,-1,100],\n",
    "               [-1,-1,-1,0,-1,-1],\n",
    "               [-1,0,0,-1,0,-1],\n",
    "               [-1,0,0,-1,-1,100],\n",
    "               [-1,0,-1,-1,0,100]])\n",
    "\n",
    "\n",
    "# Q matrix (state x action) / Initial as NULL placeholder\n",
    "Q = np.matrix(np.zeros([6,6]))\n",
    "\n",
    "# Gamma (learning parameter).\n",
    "gamma = 0.8\n",
    "\n",
    "\n",
    "# Initial state. (Usually to be chosen at random)\n",
    "initial_state = 1"
   ]
  },
  {
   "cell_type": "code",
   "execution_count": 456,
   "metadata": {
    "collapsed": false,
    "scrolled": true
   },
   "outputs": [
    {
     "name": "stdout",
     "output_type": "stream",
     "text": [
      "The availible actions is in state 1 are [3 5] !\n"
     ]
    }
   ],
   "source": [
    "# availible actions\n",
    "\n",
    "def available_actions(state, R):\n",
    "    \n",
    "    \"\"\"\n",
    "    This function returns all available actions given a state through t.\n",
    "    \"\"\"\n",
    "    \n",
    "    # given the current state row where is a possible action = non negative reward\n",
    "    current_state_row = R[state,]\n",
    "    av_act = np.where(current_state_row >= 0)[1]\n",
    "    return av_act\n",
    "\n",
    "\n",
    "# Get available actions in the initial state\n",
    "available_act = available_actions(initial_state, R)\n",
    "\n",
    "print(\"The availible actions is in state\", initial_state, \"are\" , available_act,\"!\")"
   ]
  },
  {
   "cell_type": "code",
   "execution_count": 457,
   "metadata": {
    "collapsed": false
   },
   "outputs": [
    {
     "name": "stdout",
     "output_type": "stream",
     "text": [
      "Next action is: go to  3\n"
     ]
    }
   ],
   "source": [
    "# stochastic choose of the next action \n",
    "# not choosen by the observed policy from teh visited states cause of the unvisitstates\n",
    "\n",
    "def sample_next_action(available_actions_range):\n",
    "    \n",
    "    \"\"\"\n",
    "    This function chooses at random which action to be performed within the range \n",
    "    of all the available action\n",
    "    \"\"\"\n",
    "\n",
    "    next_action = int(np.random.choice(available_act, 1))\n",
    "    return next_action\n",
    "\n",
    "\n",
    "# Sample next action to be performed\n",
    "action = sample_next_action(available_act)\n",
    "\n",
    "print(\"Next action is: go to \", action)"
   ]
  },
  {
   "cell_type": "markdown",
   "metadata": {},
   "source": [
    "**Q Value**\n",
    "$$\n",
    "Q(s,a) = r(s,a) + \\gamma \\max_{a'}{\\hat{Q}(s, a')}\n",
    "$$\n",
    "\n",
    "e.g the Q Value in state 1 for the action a = 5 is:\n",
    "\n",
    "$$\n",
    "Q(1,5) = r(1,5) + \\gamma \\max{(Q(5,1), (5,4), (5,5))}\n",
    "$$"
   ]
  },
  {
   "cell_type": "code",
   "execution_count": 458,
   "metadata": {
    "collapsed": false
   },
   "outputs": [],
   "source": [
    "# Update Q table after choose an action.\n",
    "\n",
    "def update(Q, current_state, action, gamma):\n",
    "    \n",
    "    \"\"\"\n",
    "    This function updates the Q matrix according to the path selected and the Q \n",
    "    learning algorithm\n",
    "    \"\"\"\n",
    "    \n",
    "    # max Q_hat: get the index with the max Q_hat value\n",
    "    max_index = np.where(Q[action,] == np.max(Q[action,]))[1]\n",
    "    \n",
    "    if max_index.shape[0] > 1:\n",
    "        # if several possible max get randomly one\n",
    "        max_index = int(np.random.choice(max_index, size = 1))\n",
    "    else:\n",
    "        # else get the max index\n",
    "        max_index = int(max_index)\n",
    "        \n",
    "    max_value = Q[action, max_index]    \n",
    "\n",
    "    # update Q tabel: Q learning formula\n",
    "    Q[current_state, action] = R[current_state, action] + gamma * max_value\n",
    "\n",
    "\n",
    "# Update Q matrix for the first move (1, 5)\n",
    "update(Q, initial_state, action, gamma)"
   ]
  },
  {
   "cell_type": "markdown",
   "metadata": {},
   "source": [
    "# Training after first iteration"
   ]
  },
  {
   "cell_type": "code",
   "execution_count": 459,
   "metadata": {
    "collapsed": false
   },
   "outputs": [
    {
     "data": {
      "text/plain": [
       "matrix([[ 0.,  0.,  0.,  0.,  0.,  0.],\n",
       "        [ 0.,  0.,  0.,  0.,  0.,  0.],\n",
       "        [ 0.,  0.,  0.,  0.,  0.,  0.],\n",
       "        [ 0.,  0.,  0.,  0.,  0.,  0.],\n",
       "        [ 0.,  0.,  0.,  0.,  0.,  0.],\n",
       "        [ 0.,  0.,  0.,  0.,  0.,  0.]])"
      ]
     },
     "execution_count": 459,
     "metadata": {},
     "output_type": "execute_result"
    }
   ],
   "source": [
    "Q"
   ]
  },
  {
   "cell_type": "code",
   "execution_count": 460,
   "metadata": {
    "collapsed": false
   },
   "outputs": [
    {
     "name": "stdout",
     "output_type": "stream",
     "text": [
      "  Training Status:100% .........."
     ]
    }
   ],
   "source": [
    "# Train over 10 000 iterations. (Re-iterate the process above).\n",
    "\n",
    "max_it = 10000\n",
    "\n",
    "for i in range(max_it):\n",
    "    current_state = np.random.randint(0, int(Q.shape[0]))\n",
    "    available_act = available_actions(current_state, R)\n",
    "    action = sample_next_action(available_act)\n",
    "    update(Q, current_state,action,gamma)\n",
    "    \n",
    "    # Training Status\n",
    "    x = int(round(i / (max_it * 0.1) )) \n",
    "    percent = round(i / (max_it * 0.01))\n",
    "    print(\"\\r \", \"Training Status:\" + str(percent) + \"% \" + \".\" * x, end = \"\")"
   ]
  },
  {
   "cell_type": "code",
   "execution_count": 462,
   "metadata": {
    "collapsed": false
   },
   "outputs": [
    {
     "name": "stdout",
     "output_type": "stream",
     "text": [
      "Trained Q matrix: \n",
      "\n"
     ]
    },
    {
     "data": {
      "text/html": [
       "<div>\n",
       "<table border=\"1\" class=\"dataframe\">\n",
       "  <thead>\n",
       "    <tr style=\"text-align: right;\">\n",
       "      <th></th>\n",
       "      <th>0</th>\n",
       "      <th>1</th>\n",
       "      <th>2</th>\n",
       "      <th>3</th>\n",
       "      <th>4</th>\n",
       "      <th>5</th>\n",
       "    </tr>\n",
       "  </thead>\n",
       "  <tbody>\n",
       "    <tr>\n",
       "      <th>0</th>\n",
       "      <td>0.0</td>\n",
       "      <td>0.0</td>\n",
       "      <td>0.0</td>\n",
       "      <td>0.0</td>\n",
       "      <td>80.0</td>\n",
       "      <td>0.0</td>\n",
       "    </tr>\n",
       "    <tr>\n",
       "      <th>1</th>\n",
       "      <td>0.0</td>\n",
       "      <td>0.0</td>\n",
       "      <td>0.0</td>\n",
       "      <td>64.0</td>\n",
       "      <td>0.0</td>\n",
       "      <td>100.0</td>\n",
       "    </tr>\n",
       "    <tr>\n",
       "      <th>2</th>\n",
       "      <td>0.0</td>\n",
       "      <td>0.0</td>\n",
       "      <td>0.0</td>\n",
       "      <td>64.0</td>\n",
       "      <td>0.0</td>\n",
       "      <td>0.0</td>\n",
       "    </tr>\n",
       "    <tr>\n",
       "      <th>3</th>\n",
       "      <td>0.0</td>\n",
       "      <td>80.0</td>\n",
       "      <td>51.2</td>\n",
       "      <td>0.0</td>\n",
       "      <td>80.0</td>\n",
       "      <td>0.0</td>\n",
       "    </tr>\n",
       "    <tr>\n",
       "      <th>4</th>\n",
       "      <td>0.0</td>\n",
       "      <td>80.0</td>\n",
       "      <td>51.2</td>\n",
       "      <td>0.0</td>\n",
       "      <td>0.0</td>\n",
       "      <td>100.0</td>\n",
       "    </tr>\n",
       "    <tr>\n",
       "      <th>5</th>\n",
       "      <td>0.0</td>\n",
       "      <td>80.0</td>\n",
       "      <td>0.0</td>\n",
       "      <td>0.0</td>\n",
       "      <td>80.0</td>\n",
       "      <td>100.0</td>\n",
       "    </tr>\n",
       "  </tbody>\n",
       "</table>\n",
       "</div>"
      ],
      "text/plain": [
       "     0     1     2     3     4      5\n",
       "0  0.0   0.0   0.0   0.0  80.0    0.0\n",
       "1  0.0   0.0   0.0  64.0   0.0  100.0\n",
       "2  0.0   0.0   0.0  64.0   0.0    0.0\n",
       "3  0.0  80.0  51.2   0.0  80.0    0.0\n",
       "4  0.0  80.0  51.2   0.0   0.0  100.0\n",
       "5  0.0  80.0   0.0   0.0  80.0  100.0"
      ]
     },
     "execution_count": 462,
     "metadata": {},
     "output_type": "execute_result"
    }
   ],
   "source": [
    "# Normalize the \"trained\" Q matrix\n",
    "print(\"Trained Q matrix: \\n\")\n",
    "pd.DataFrame(Q/np.max(Q)*100)"
   ]
  },
  {
   "cell_type": "markdown",
   "metadata": {},
   "source": [
    "# Optimal Policy Current State = 2"
   ]
  },
  {
   "cell_type": "code",
   "execution_count": 463,
   "metadata": {
    "collapsed": false
   },
   "outputs": [
    {
     "name": "stdout",
     "output_type": "stream",
     "text": [
      "Moves: 1: [2, 3]\n",
      "Moves: 2: [2, 3, 1]\n",
      "Moves: 3: [2, 3, 1, 5]\n",
      "\n",
      " Selected path:\n",
      "[2, 3, 1, 5]\n"
     ]
    }
   ],
   "source": [
    "# Goal state = 5\n",
    "# Best sequence path starting from 2 -> 2, 3, 1, 5\n",
    "\n",
    "current_state = 2\n",
    "steps = [current_state]\n",
    "count = 0\n",
    "\n",
    "\n",
    "while current_state != 5:\n",
    "\n",
    "    next_step_index = np.where(Q[current_state,] == np.max(Q[current_state,]))[1]\n",
    "\n",
    "    \n",
    "    if next_step_index.shape[0] > 1:\n",
    "        next_step_index = int(np.random.choice(next_step_index, size = 1))\n",
    "    else:\n",
    "        next_step_index = int(next_step_index)\n",
    "\n",
    "    steps.append(next_step_index)\n",
    "    current_state = next_step_index\n",
    "    \n",
    "    count += 1\n",
    "    print(\"Moves: {}: {}\". format(count, steps), end = \"\\n\")\n",
    "    \n",
    "\n",
    "\n",
    "# Print selected sequence of steps\n",
    "\n",
    "print(\"\\n Selected path:\")\n",
    "print(steps)"
   ]
  },
  {
   "cell_type": "markdown",
   "metadata": {},
   "source": [
    "![](graph_policy.png)"
   ]
  },
  {
   "cell_type": "code",
   "execution_count": null,
   "metadata": {
    "collapsed": true
   },
   "outputs": [],
   "source": []
  },
  {
   "cell_type": "code",
   "execution_count": null,
   "metadata": {
    "collapsed": true
   },
   "outputs": [],
   "source": []
  }
 ],
 "metadata": {
  "anaconda-cloud": {},
  "kernelspec": {
   "display_name": "Python [default]",
   "language": "python",
   "name": "python3"
  },
  "language_info": {
   "codemirror_mode": {
    "name": "ipython",
    "version": 3
   },
   "file_extension": ".py",
   "mimetype": "text/x-python",
   "name": "python",
   "nbconvert_exporter": "python",
   "pygments_lexer": "ipython3",
   "version": "3.5.2"
  }
 },
 "nbformat": 4,
 "nbformat_minor": 1
}
